{
 "cells": [
  {
   "cell_type": "code",
   "execution_count": null,
   "metadata": {},
   "outputs": [],
   "source": [
    "## How to Perform PCA ?\n",
    "\n",
    "PCA is a process involving the series of steps leading to a set of reduced dimensions as seen above. By rotating an n-dimensional data, PCA puts it on a new set of axis: pc1, pc2 … pcn (pc = principle compoenent). In general, the rotation of axes as we saw above, is achieved through matrix manipulation. \n",
    "\n",
    "> PCA helps us create an n dimensional rotation matrix in such a way as to maximise the spread/variance along the new axis pc1, pc2 … pcN, sorted from largest to smallest.\n",
    "\n",
    "The steps to perform PCA are:\n",
    "\n",
    "- Standardize the dataset features in order to centre it at the origin\n",
    "- Calculate the covariance matrix\n",
    "- Find the principal components through Eigen Decomposition\n",
    "- Reduce the data using the selected principal components"
   ]
  }
 ],
 "metadata": {
  "kernelspec": {
   "display_name": "Python 3",
   "language": "python",
   "name": "python3"
  },
  "language_info": {
   "codemirror_mode": {
    "name": "ipython",
    "version": 3
   },
   "file_extension": ".py",
   "mimetype": "text/x-python",
   "name": "python",
   "nbconvert_exporter": "python",
   "pygments_lexer": "ipython3",
   "version": "3.6.4"
  }
 },
 "nbformat": 4,
 "nbformat_minor": 2
}
